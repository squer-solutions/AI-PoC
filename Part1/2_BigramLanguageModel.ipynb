{
 "cells": [
  {
   "cell_type": "markdown",
   "metadata": {},
   "source": [
    "# Creating a Bigram Language Model\n",
    "\n"
   ]
  },
  {
   "cell_type": "markdown",
   "metadata": {},
   "source": [
    "## Loading dataset and parameters"
   ]
  },
  {
   "cell_type": "code",
   "execution_count": null,
   "metadata": {},
   "outputs": [],
   "source": [
    "import pickle\n",
    "import torch\n",
    "import numpy as np\n",
    "\n",
    "with open(\"./dataset/meta.pkl\", 'rb') as f:\n",
    "    meta = pickle.load(f)\n",
    "\n",
    "vocab_size = meta[\"vocab_size\"]\n",
    "itos= meta[\"itos\"]\n",
    "stoi= meta[\"stoi\"]\n",
    "\n",
    "\n",
    "device = 'cpu' #cpu, cuda or mps:0\n",
    "\n",
    "# redefine batch generation\n",
    "torch.manual_seed(1337)\n",
    "batch_size = 4 # how many independent sequences will we process in parallel?\n",
    "block_size = 8 # what is the maximum context length for predictions?\n",
    "\n",
    "def get_batch(split):\n",
    "    # https://stackoverflow.com/questions/45132940/numpy-memmap-memory-usage-want-to-iterate-once/61472122#61472122\n",
    "    if split == 'train':\n",
    "        data = np.memmap(\"./dataset/train.bin\", dtype=np.uint16, mode='r')\n",
    "    else:\n",
    "        data = np.memmap(\"./dataset/val.bin\", dtype=np.uint16, mode='r')\n",
    "    \n",
    "    ix = torch.randint(len(data) - block_size, (batch_size,))\n",
    "    x = torch.stack([torch.from_numpy((data[i:i+block_size]).astype(np.int64)) for i in ix])\n",
    "    y = torch.stack([torch.from_numpy((data[i+1:i+1+block_size]).astype(np.int64)) for i in ix])\n",
    "    if device == 'cuda':\n",
    "        # pin arrays x,y, which allows us to move them to GPU asynchronously (non_blocking=True)\n",
    "        x, y = x.pin_memory().to(device, non_blocking=True), y.pin_memory().to(device, non_blocking=True)\n",
    "    else:\n",
    "        x, y = x.to(device), y.to(device)\n",
    "    return x, y\n",
    "\n",
    "encode = lambda s: [stoi[c] for c in s]\n",
    "decode = lambda l: \"\".join([itos[i] for i in l]) \n",
    "\n",
    "\n",
    "xb, yb = get_batch('train')"
   ]
  },
  {
   "cell_type": "code",
   "execution_count": null,
   "metadata": {},
   "outputs": [],
   "source": [
    "# Check for arbitrary xb \n",
    "xb"
   ]
  },
  {
   "cell_type": "markdown",
   "metadata": {},
   "source": [
    "## BigramLanguageModel\n",
    "We add a group on new variables here for the embeddings. Pytorch is taking every input id and embedds in internally into a Lookup table which is \n",
    "\n",
    "`B` like batch, the batch_size, which is 4\n",
    "\n",
    "`T` is time, the chunk lengths 8\n",
    "\n",
    "`C` is the Channel or the embedding dimension or vocab_size 65\n",
    "\n",
    "Our embedding table is 65x65. See further information in the [PyTorch Documenation for Embedding](https://docs.pytorch.org/docs/stable/generated/torch.nn.Embedding.html)\n",
    "\n",
    "Logits however are the values of computation before we send it to the activation function or normalize it"
   ]
  },
  {
   "cell_type": "code",
   "execution_count": null,
   "metadata": {},
   "outputs": [],
   "source": [
    "import torch.nn as nn\n",
    "\n",
    "\n",
    "class BigramLanguageModel(nn.Module):\n",
    "    def __init__(self, vocab_size):\n",
    "        super().__init__()\n",
    "        # each token directly reads off the logits for the next token from a lookup table\n",
    "        self.token_embedding_table = nn.Embedding(vocab_size, vocab_size)\n",
    "\n",
    "    def forward(self, idx, targets=None):\n",
    "\n",
    "        # idx and targets are both (B,T) tensor of integers\n",
    "        logits = self.token_embedding_table(idx) # (Batch, Time, Channel)\n",
    "        return logits\n",
    "\n",
    "m = BigramLanguageModel(vocab_size)\n",
    "logits = m(xb, yb)\n",
    "print(logits.shape)"
   ]
  },
  {
   "cell_type": "markdown",
   "metadata": {},
   "source": [
    "### Adding a loss function\n",
    "\n",
    "We need to add a `loss` function to in the `forward` method of our code. PyTorch's [Crossentropy Function](https://docs.pytorch.org/docs/stable/generated/torch.nn.functional.cross_entropy.html) is a good match of this, but function is not made for multi dimensional input. Therefore we need to reshape the vectors for calculation.\n",
    "\n",
    "<div style=\"text-align:center\"><img align=\"center\" src=\"https://sparrow.dev/wp-content/uploads/2021/03/numpy-reshape.jpg\" width=\"300\"/></div><br>\n",
    "\n",
    "Each tensors in Pytorch has a [view method](https://docs.pytorch.org/docs/stable/generated/torch.Tensor.view.html) for reshaping it. We need to find a way to reshape the logits and targets vectors to one-dimensional vectors"
   ]
  },
  {
   "cell_type": "code",
   "execution_count": null,
   "metadata": {},
   "outputs": [],
   "source": [
    "from torch.nn import functional as F\n",
    "\n",
    "\n",
    "class BigramLanguageModel(nn.Module):\n",
    "    def __init__(self, vocab_size):\n",
    "        super().__init__()\n",
    "        # each token directly reads off the logits for the next token from a lookup table\n",
    "        self.token_embedding_table = nn.Embedding(vocab_size, vocab_size)\n",
    "\n",
    "    def forward(self, idx, targets=None):\n",
    "\n",
    "        # idx and targets are both (B,T) tensor of integers\n",
    "        logits = self.token_embedding_table(idx)  # (Batch, Time, Channel)\n",
    "\n",
    "        B, T, C = logits.shape\n",
    "        logits =  # ⚠️⚠️⚠️⚠️⚠️ Create a view of the vector in form of B*T, C\n",
    "        targets =   # ⚠️⚠️⚠️⚠️⚠️ Create a view of the vector in form of B*T\n",
    "        loss = F.cross_entropy(logits, targets)\n",
    "        return logits, loss\n",
    "\n",
    "\n",
    "m = BigramLanguageModel(vocab_size)\n",
    "logits, loss = m(xb, yb)\n",
    "print(logits.shape)\n",
    "print(loss)\n"
   ]
  },
  {
   "cell_type": "markdown",
   "metadata": {},
   "source": [
    "If implemented correctly, the `logits.shape` should be `32x65` and the loss something between 4 and 5 (due to entropy). $-ln(1/65)$ would be $4.17$ if we have no entropy in out dataset."
   ]
  },
  {
   "cell_type": "markdown",
   "metadata": {},
   "source": [
    "We can now evaluate the quality of our model, but we want to generate from the model, so we need to implement a generate function. "
   ]
  },
  {
   "cell_type": "code",
   "execution_count": null,
   "metadata": {},
   "outputs": [],
   "source": [
    "class BigramLanguageModel(nn.Module):\n",
    "    def __init__(self, vocab_size):\n",
    "        super().__init__()\n",
    "        # each token directly reads off the logits for the next token from a lookup table\n",
    "        self.token_embedding_table = nn.Embedding(vocab_size, vocab_size)\n",
    "\n",
    "    def forward(self, idx, targets=None):\n",
    "\n",
    "        # idx and targets are both (B,T) tensor of integers\n",
    "        logits = self.token_embedding_table(idx)  # (Batch, Time, Channel)\n",
    "\n",
    "        if targets is None:\n",
    "            loss = None\n",
    "        else:\n",
    "            B, T, C = logits.shape\n",
    "            logits = logits.view(B * T, C)\n",
    "            targets = targets.view(B * T)\n",
    "            loss = F.cross_entropy(logits, targets)\n",
    "\n",
    "        return logits, loss\n",
    "\n",
    "    def generate(self, idx, max_new_tokens):\n",
    "        # idx is (B, T) array of indices in the current context\n",
    "        for _ in range(max_new_tokens):\n",
    "            # get the predictions\n",
    "            logits, _ = self(idx)\n",
    "            # focus only on the last time step\n",
    "            logits = logits[:, -1, :]  # becomes (B, C)\n",
    "            # apply softmax to get probabilities\n",
    "            probs =   # (B, C) # ⚠️⚠️⚠️⚠️⚠️ Apply softmax over all dimensions of \"logits\"\n",
    "            # sample from the distribution\n",
    "            idx_next = torch.multinomial(probs, num_samples=1)  # (B, 1)\n",
    "            # append sampled index to the running sequence\n",
    "            idx = torch.cat((idx, idx_next), dim=1)  # (B, T+1)\n",
    "        return idx\n",
    "\n",
    "\n",
    "m = BigramLanguageModel(vocab_size)\n",
    "logits, loss = m(xb, yb)\n",
    "\n",
    "\n",
    "# generate data from the model\n",
    "idx = torch.zeros((1,1), dtype=torch.long) #1x1 tensor with 0 aka \"\\n\"\n",
    "result = m.generate(idx, max_new_tokens=100)[0].tolist()\n",
    "print(decode(result))"
   ]
  },
  {
   "cell_type": "markdown",
   "metadata": {},
   "source": [
    "## Training of BigramLanguageModel\n"
   ]
  },
  {
   "cell_type": "code",
   "execution_count": null,
   "metadata": {},
   "outputs": [],
   "source": [
    "# create a PyTorch optimizer\n",
    "optimizer = torch.optim.AdamW(m.parameters(), lr=1e-3)"
   ]
  },
  {
   "cell_type": "code",
   "execution_count": null,
   "metadata": {},
   "outputs": [],
   "source": [
    "batch_size = 32\n",
    "for steps in range(1000): # increase number of steps for good results...\n",
    "\n",
    "    # sample a batch of data\n",
    "    xb, yb = get_batch('train')\n",
    "\n",
    "    # evaluate the loss\n",
    "    logits, loss = m(xb, yb)\n",
    "    optimizer.zero_grad(set_to_none=True)\n",
    "    loss.backward()\n",
    "    optimizer.step()\n",
    "\n",
    "    if steps % 100 == 0:\n",
    "        print(loss.item())\n"
   ]
  },
  {
   "cell_type": "code",
   "execution_count": null,
   "metadata": {},
   "outputs": [],
   "source": [
    "# generate data from the model\n",
    "idx =  ## ⚠️⚠️⚠️⚠️⚠️ Create a 1x1 tensor with 0 aka \"\\n\" (long)\n",
    "result = m.generate(idx, max_new_tokens=500)[0].tolist()\n",
    "print(decode(result))"
   ]
  }
 ],
 "metadata": {
  "kernelspec": {
   "display_name": ".venv",
   "language": "python",
   "name": "python3"
  },
  "language_info": {
   "codemirror_mode": {
    "name": "ipython",
    "version": 3
   },
   "file_extension": ".py",
   "mimetype": "text/x-python",
   "name": "python",
   "nbconvert_exporter": "python",
   "pygments_lexer": "ipython3",
   "version": "3.11.11"
  }
 },
 "nbformat": 4,
 "nbformat_minor": 2
}
